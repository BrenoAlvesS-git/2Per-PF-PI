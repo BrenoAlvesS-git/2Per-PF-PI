{
 "cells": [
  {
   "cell_type": "markdown",
   "id": "158f51e3",
   "metadata": {
    "papermill": {
     "duration": 0.003573,
     "end_time": "2024-12-09T01:02:01.337016",
     "exception": false,
     "start_time": "2024-12-09T01:02:01.333443",
     "status": "completed"
    },
    "tags": []
   },
   "source": [
    "### Explicação das colunas:\n",
    "\n",
    "- **CustomerID**: Identificação única de cada cliente.\n",
    "- **Age**: Idade do cliente em anos.\n",
    "- **Gender**: Gênero do cliente (Male/Female).\n",
    "- **Tenure**: Duração da permanência do cliente no serviço (em meses).\n",
    "- **Usage Frequency**: Frequência de uso do serviço pelo cliente (baixa/média/alta).\n",
    "- **Support Calls**: Número de vezes que o cliente entrou em contato com o suporte.\n",
    "- **Payment Delay**: Número de pagamentos atrasados pelo cliente.\n",
    "- **Subscription Type**: Tipo de assinatura do cliente (básica/premium/etc.).\n",
    "- **Contract Length**: Duração do contrato do cliente (em meses).\n",
    "- **Total Spend**: Total gasto pelo cliente durante toda a permanência no serviço.\n",
    "- **Last Interaction**: Número de dias desde a última interação do cliente com o serviço.\n",
    "- **Churn**: Indica se o cliente abandonou o serviço (1 para abandonou, 0 para permaneceu).\n"
   ]
  },
  {
   "cell_type": "code",
   "execution_count": 4,
   "id": "4d8a4d67",
   "metadata": {
    "execution": {
     "iopub.execute_input": "2024-12-09T01:02:01.345114Z",
     "iopub.status.busy": "2024-12-09T01:02:01.344555Z",
     "iopub.status.idle": "2024-12-09T01:02:03.924701Z",
     "shell.execute_reply": "2024-12-09T01:02:03.923734Z"
    },
    "papermill": {
     "duration": 2.587095,
     "end_time": "2024-12-09T01:02:03.927214",
     "exception": false,
     "start_time": "2024-12-09T01:02:01.340119",
     "status": "completed"
    },
    "tags": []
   },
   "outputs": [
    {
     "ename": "ModuleNotFoundError",
     "evalue": "No module named 'pandas'",
     "output_type": "error",
     "traceback": [
      "\u001b[1;31m---------------------------------------------------------------------------\u001b[0m",
      "\u001b[1;31mModuleNotFoundError\u001b[0m                       Traceback (most recent call last)",
      "Cell \u001b[1;32mIn[4], line 2\u001b[0m\n\u001b[0;32m      1\u001b[0m \u001b[38;5;66;03m# Importando bibliotecas essenciais\u001b[39;00m\n\u001b[1;32m----> 2\u001b[0m \u001b[38;5;28;01mimport\u001b[39;00m \u001b[38;5;21;01mpandas\u001b[39;00m \u001b[38;5;28;01mas\u001b[39;00m \u001b[38;5;21;01mpd\u001b[39;00m\n\u001b[0;32m      3\u001b[0m \u001b[38;5;28;01mimport\u001b[39;00m \u001b[38;5;21;01mnumpy\u001b[39;00m \u001b[38;5;28;01mas\u001b[39;00m \u001b[38;5;21;01mnp\u001b[39;00m\n\u001b[0;32m      4\u001b[0m \u001b[38;5;28;01mimport\u001b[39;00m \u001b[38;5;21;01mmatplotlib\u001b[39;00m\u001b[38;5;21;01m.\u001b[39;00m\u001b[38;5;21;01mpyplot\u001b[39;00m \u001b[38;5;28;01mas\u001b[39;00m \u001b[38;5;21;01mplt\u001b[39;00m\n",
      "\u001b[1;31mModuleNotFoundError\u001b[0m: No module named 'pandas'"
     ]
    }
   ],
   "source": [
    "# Importando bibliotecas essenciais\n",
    "import pandas as pd\n",
    "import numpy as np\n",
    "import matplotlib.pyplot as plt\n",
    "import seaborn as sns\n",
    "\n",
    "# Configurando estilos dos gráficos\n",
    "%matplotlib inline\n",
    "sns.set(style='whitegrid')\n",
    "\n",
    "# 🚀 Etapa 1: Carregar e visualizar o dataset\n",
    "\n",
    "# Tarefa: Carregue o arquivo CSV no DataFrame chamado `df` e visualize as 5 primeiras linhas."
   ]
  },
  {
   "cell_type": "code",
   "execution_count": null,
   "id": "1a71e623",
   "metadata": {
    "execution": {
     "iopub.execute_input": "2024-12-09T01:02:03.934786Z",
     "iopub.status.busy": "2024-12-09T01:02:03.934292Z",
     "iopub.status.idle": "2024-12-09T01:02:04.257888Z",
     "shell.execute_reply": "2024-12-09T01:02:04.256332Z"
    },
    "papermill": {
     "duration": 0.329449,
     "end_time": "2024-12-09T01:02:04.259642",
     "exception": true,
     "start_time": "2024-12-09T01:02:03.930193",
     "status": "failed"
    },
    "tags": []
   },
   "outputs": [
    {
     "ename": "NameError",
     "evalue": "name 'df' is not defined",
     "output_type": "error",
     "traceback": [
      "\u001b[1;31m---------------------------------------------------------------------------\u001b[0m",
      "\u001b[1;31mNameError\u001b[0m                                 Traceback (most recent call last)",
      "Cell \u001b[1;32mIn[3], line 6\u001b[0m\n\u001b[0;32m      1\u001b[0m \u001b[38;5;66;03m# 🚀 Etapa 2: Tratar valores ausentes\u001b[39;00m\n\u001b[0;32m      2\u001b[0m \n\u001b[0;32m      3\u001b[0m \u001b[38;5;66;03m# Tarefa: Verifique a quantidade de valores ausentes no DataFrame e remova linhas com valores ausentes.\u001b[39;00m\n\u001b[0;32m      4\u001b[0m \n\u001b[0;32m      5\u001b[0m \u001b[38;5;66;03m# Verifique os valores ausentes\u001b[39;00m\n\u001b[1;32m----> 6\u001b[0m \u001b[43mdf\u001b[49m\u001b[38;5;241m.\u001b[39misnull()\u001b[38;5;241m.\u001b[39msum()\n",
      "\u001b[1;31mNameError\u001b[0m: name 'df' is not defined"
     ]
    }
   ],
   "source": [
    "# 🚀 Etapa 2: Tratar valores ausentes\n",
    "\n",
    "# Tarefa: Verifique a quantidade de valores ausentes no DataFrame e remova linhas com valores ausentes.\n",
    "\n",
    "# Verifique os valores ausentes\n",
    "df.isnull().sum()"
   ]
  },
  {
   "cell_type": "code",
   "execution_count": null,
   "id": "75452626",
   "metadata": {
    "papermill": {
     "duration": null,
     "end_time": null,
     "exception": null,
     "start_time": null,
     "status": "pending"
    },
    "tags": []
   },
   "outputs": [],
   "source": [
    "# 🚀 Etapa 3: Ajustar tipos de dados\n",
    "\n",
    "# Tarefa: Veja se é necessário a conversão da coluna 'Total Spend' para tipo numérico.\n",
    "\n",
    "# Verifique os tipos de dados\n",
    "df.dtypes"
   ]
  },
  {
   "cell_type": "code",
   "execution_count": null,
   "id": "f12be3d3",
   "metadata": {
    "papermill": {
     "duration": null,
     "end_time": null,
     "exception": null,
     "start_time": null,
     "status": "pending"
    },
    "tags": []
   },
   "outputs": [],
   "source": [
    "# 🚀 Etapa 4: Análise estatística\n",
    "\n",
    "# Tarefa: Obtenha estatísticas descritivas para variáveis numéricas e categóricas."
   ]
  },
  {
   "cell_type": "code",
   "execution_count": null,
   "id": "3398af73",
   "metadata": {
    "papermill": {
     "duration": null,
     "end_time": null,
     "exception": null,
     "start_time": null,
     "status": "pending"
    },
    "tags": []
   },
   "outputs": [],
   "source": [
    "# 🚀 Etapa 5: Análise inicial de Churn\n",
    "\n",
    "# Tarefa: Visualize a distribuição de clientes que cancelaram (Churn) e calcule a porcentagem de cada classe."
   ]
  },
  {
   "cell_type": "code",
   "execution_count": null,
   "id": "759343ea",
   "metadata": {
    "papermill": {
     "duration": null,
     "end_time": null,
     "exception": null,
     "start_time": null,
     "status": "pending"
    },
    "tags": []
   },
   "outputs": [],
   "source": [
    "# 🚀 Etapa 6: Pré-processamento de variáveis categóricas\n",
    "\n",
    "# Tarefa: Liste as colunas categóricas e exclua as colunas necessárias!\n",
    "# Se você sabe python, tente fazer de um jeito diferente que eu fiz! \n",
    "\n",
    "# Pergunta: quais colunas são necessárias remover? Tem outra que você pensou em resolver?"
   ]
  },
  {
   "cell_type": "code",
   "execution_count": null,
   "id": "90f844ba",
   "metadata": {
    "papermill": {
     "duration": null,
     "end_time": null,
     "exception": null,
     "start_time": null,
     "status": "pending"
    },
    "tags": []
   },
   "outputs": [],
   "source": [
    "# 🚀 Etapa 7: Aplicar One-Hot Encoding\n",
    "\n",
    "# Tarefa: Transforme as variáveis categóricas em numéricas com pd.get_dummies()."
   ]
  },
  {
   "cell_type": "code",
   "execution_count": null,
   "id": "d1628b94",
   "metadata": {
    "papermill": {
     "duration": null,
     "end_time": null,
     "exception": null,
     "start_time": null,
     "status": "pending"
    },
    "tags": []
   },
   "outputs": [],
   "source": [
    "# 🚀 Etapa 8: Mapear coluna 'Churn' para valores numéricos\n",
    "\n",
    "# Tarefa: Mapeie os valores de 'Churn' para No (0) e Yes (1).\n",
    "# Pergunta: O que você ganha com isso?"
   ]
  },
  {
   "cell_type": "code",
   "execution_count": null,
   "id": "1aff0396",
   "metadata": {
    "papermill": {
     "duration": null,
     "end_time": null,
     "exception": null,
     "start_time": null,
     "status": "pending"
    },
    "tags": []
   },
   "outputs": [],
   "source": [
    "# 🚀 Etapa 9: Escalar variáveis numéricas\n",
    "\n",
    "# Tarefa: Escale as variáveis númericas, mas nem todas elas!\n",
    "\n",
    "# Pergunta: Por que você escolheu essa variáveis númericas?"
   ]
  },
  {
   "cell_type": "code",
   "execution_count": null,
   "id": "06d4ad36",
   "metadata": {
    "papermill": {
     "duration": null,
     "end_time": null,
     "exception": null,
     "start_time": null,
     "status": "pending"
    },
    "tags": []
   },
   "outputs": [],
   "source": [
    "# 🚀 Etapa 10: Divisão em conjuntos de treino e teste\n",
    "\n",
    "# Tarefa: Separe as features (X) e o target (y), e então divida em treino e teste.\n",
    "from sklearn.model_selection import train_test_split"
   ]
  },
  {
   "cell_type": "markdown",
   "id": "50edbf3a",
   "metadata": {
    "papermill": {
     "duration": null,
     "end_time": null,
     "exception": null,
     "start_time": null,
     "status": "pending"
    },
    "tags": []
   },
   "source": [
    "# PAINEL DE DICAS!\n",
    "\n",
    "### Use pd.read_csv() para carregar o arquivo \"./data/churn-alunos.csv\".\n",
    "### Use isnull().sum() para contar valores ausentes.\n",
    "### Use pd.to_numeric() com o parâmetro errors='coerce'.\n",
    "### Use df.describe() e df.describe(include=['O']).\n",
    "### Use sns.countplot() e value_counts(normalize=True).\n",
    "### Use a classe MinMaxScaler para normalizar as variáveis númericas.\n",
    "### Use train_test_split() com test_size=0.2 e stratify=y."
   ]
  },
  {
   "cell_type": "code",
   "execution_count": null,
   "id": "b47f2d03",
   "metadata": {
    "papermill": {
     "duration": null,
     "end_time": null,
     "exception": null,
     "start_time": null,
     "status": "pending"
    },
    "tags": []
   },
   "outputs": [],
   "source": []
  }
 ],
 "metadata": {
  "kaggle": {
   "accelerator": "none",
   "dataSources": [
    {
     "datasetId": 3404076,
     "sourceId": 5929113,
     "sourceType": "datasetVersion"
    },
    {
     "datasetId": 6260510,
     "sourceId": 10142868,
     "sourceType": "datasetVersion"
    }
   ],
   "dockerImageVersionId": 30804,
   "isGpuEnabled": false,
   "isInternetEnabled": false,
   "language": "python",
   "sourceType": "notebook"
  },
  "kernelspec": {
   "display_name": "Python 3",
   "language": "python",
   "name": "python3"
  },
  "language_info": {
   "codemirror_mode": {
    "name": "ipython",
    "version": 3
   },
   "file_extension": ".py",
   "mimetype": "text/x-python",
   "name": "python",
   "nbconvert_exporter": "python",
   "pygments_lexer": "ipython3",
   "version": "3.13.0"
  },
  "papermill": {
   "default_parameters": {},
   "duration": 6.738918,
   "end_time": "2024-12-09T01:02:04.886374",
   "environment_variables": {},
   "exception": true,
   "input_path": "__notebook__.ipynb",
   "output_path": "__notebook__.ipynb",
   "parameters": {},
   "start_time": "2024-12-09T01:01:58.147456",
   "version": "2.6.0"
  }
 },
 "nbformat": 4,
 "nbformat_minor": 5
}
